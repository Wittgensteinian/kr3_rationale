{
 "cells": [
  {
   "cell_type": "code",
   "execution_count": 1,
   "metadata": {},
   "outputs": [],
   "source": [
    "import torch"
   ]
  },
  {
   "cell_type": "code",
   "execution_count": 34,
   "metadata": {},
   "outputs": [
    {
     "data": {
      "text/plain": [
       "['outputs/FT3/attentions/batch_11000.pt']"
      ]
     },
     "execution_count": 34,
     "metadata": {},
     "output_type": "execute_result"
    }
   ],
   "source": [
    "from glob import glob\n",
    "glob('outputs/FT3/attentions/batch_11000.pt')"
   ]
  },
  {
   "cell_type": "code",
   "execution_count": 70,
   "metadata": {},
   "outputs": [],
   "source": [
    "i = 0\n",
    "attns = torch.load(f'outputs/FT3/attentions/batch_{i}.pt')\n",
    "logits = torch.load(f'outputs/FT3/logits/batch_{i}.pt')\n"
   ]
  },
  {
   "cell_type": "code",
   "execution_count": 71,
   "metadata": {},
   "outputs": [
    {
     "data": {
      "text/plain": [
       "torch.Size([32, 12, 184])"
      ]
     },
     "execution_count": 71,
     "metadata": {},
     "output_type": "execute_result"
    }
   ],
   "source": [
    "attns.size()"
   ]
  },
  {
   "cell_type": "code",
   "execution_count": 75,
   "metadata": {},
   "outputs": [
    {
     "data": {
      "text/plain": [
       "torch.Size([184])"
      ]
     },
     "execution_count": 75,
     "metadata": {},
     "output_type": "execute_result"
    }
   ],
   "source": [
    "attns[:,-1,:][0].size()"
   ]
  },
  {
   "cell_type": "code",
   "execution_count": 77,
   "metadata": {},
   "outputs": [
    {
     "data": {
      "text/plain": [
       "tensor([0.0062, 0.0058, 0.0061, 0.0057, 0.0060, 0.0063, 0.0067, 0.0068, 0.0069,\n",
       "        0.0063, 0.0064, 0.0061, 0.0032, 0.0040, 0.0030, 0.0037, 0.0040, 0.0035,\n",
       "        0.0037, 0.0026, 0.0033, 0.0032, 0.0026, 0.0035, 0.0052, 0.0026, 0.0056,\n",
       "        0.0067, 0.0072, 0.0069, 0.0070, 0.0064, 0.0067, 0.0066, 0.0079, 0.0073,\n",
       "        0.0068, 0.0069, 0.0071, 0.0061, 0.0069, 0.0069, 0.0070, 0.0069, 0.0064,\n",
       "        0.0063, 0.0039, 0.0046, 0.0037, 0.0074, 0.0063, 0.0060, 0.0060, 0.0067,\n",
       "        0.0058, 0.0055, 0.0058, 0.0073, 0.0052, 0.0058, 0.0061, 0.0060, 0.0061,\n",
       "        0.0059, 0.0058, 0.0058, 0.0048, 0.0060, 0.0064, 0.0043, 0.0041, 0.0062,\n",
       "        0.0067, 0.0070, 0.0060, 0.0065, 0.0057, 0.0035, 0.0027, 0.0056, 0.0049,\n",
       "        0.0078, 0.0075, 0.0031, 0.0029, 0.0030, 0.0080, 0.0078, 0.0074, 0.0077,\n",
       "        0.0073, 0.0071, 0.0064, 0.0048, 0.0055, 0.0061, 0.0068, 0.0045, 0.0079,\n",
       "        0.0086, 0.0084, 0.0058, 0.0029, 0.0030, 0.0027, 0.0026, 0.0026, 0.0026,\n",
       "        0.0025, 0.0024, 0.0025, 0.0032, 0.0062, 0.0069, 0.0087, 0.0072, 0.0055,\n",
       "        0.0054, 0.0031, 0.0029, 0.0031, 0.0024, 0.0034, 0.0063, 0.0065, 0.0066,\n",
       "        0.0082, 0.0076, 0.0074, 0.0081, 0.0072, 0.0060, 0.0060, 0.0062, 0.0062,\n",
       "        0.0071, 0.0073, 0.0077, 0.0080, 0.0077, 0.0075, 0.0074, 0.0072, 0.0063,\n",
       "        0.0059, 0.0061, 0.0074, 0.0065, 0.0069, 0.0074, 0.0073, 0.0067, 0.0082,\n",
       "        0.0072, 0.0067, 0.0070, 0.0072, 0.0079, 0.0063, 0.0060, 0.0063, 0.0075,\n",
       "        0.0076, 0.0066, 0.0065, 0.0082, 0.0051, 0.0079, 0.0066, 0.0069, 0.0000,\n",
       "        0.0000, 0.0000, 0.0000, 0.0000, 0.0000, 0.0000, 0.0000, 0.0000, 0.0000,\n",
       "        0.0000, 0.0000, 0.0000, 0.0000])"
      ]
     },
     "execution_count": 77,
     "metadata": {},
     "output_type": "execute_result"
    }
   ],
   "source": [
    "attn = attns[0][-1]\n",
    "attn"
   ]
  },
  {
   "cell_type": "code",
   "execution_count": 14,
   "metadata": {},
   "outputs": [
    {
     "name": "stderr",
     "output_type": "stream",
     "text": [
      "Using custom data configuration Wittgensteinian--KR3-9f7e41b8ab859e44\n",
      "Reusing dataset parquet (/home/gsdsaml/.cache/huggingface/datasets/parquet/Wittgensteinian--KR3-9f7e41b8ab859e44/0.0.0/0b6d5799bb726b24ad7fc7be720c170d8e497f575d02d47537de9a5bac074901)\n",
      "Loading cached processed dataset at /home/gsdsaml/.cache/huggingface/datasets/parquet/Wittgensteinian--KR3-9f7e41b8ab859e44/0.0.0/0b6d5799bb726b24ad7fc7be720c170d8e497f575d02d47537de9a5bac074901/cache-964db1339d22becb.arrow\n"
     ]
    }
   ],
   "source": [
    "# load the dataset\n",
    "from datasets import load_dataset\n",
    "\n",
    "kr3 = load_dataset(\"Wittgensteinian/KR3\", name='kr3', split='train')\n",
    "kr3 = kr3.remove_columns(['__index_level_0__'])\n",
    "kr3_binary = kr3.filter(lambda example: example['Rating'] != 2)\n"
   ]
  },
  {
   "cell_type": "code",
   "execution_count": 10,
   "metadata": {},
   "outputs": [],
   "source": [
    "from fresh import *"
   ]
  },
  {
   "cell_type": "code",
   "execution_count": 11,
   "metadata": {},
   "outputs": [],
   "source": [
    "attn = exclude_cls_sep(attn)"
   ]
  },
  {
   "cell_type": "code",
   "execution_count": 13,
   "metadata": {},
   "outputs": [
    {
     "data": {
      "text/plain": [
       "tensor([0.0000, 0.0058, 0.0062, 0.0058, 0.0061, 0.0063, 0.0068, 0.0069, 0.0070,\n",
       "        0.0064, 0.0065, 0.0061, 0.0033, 0.0041, 0.0031, 0.0038, 0.0040, 0.0035,\n",
       "        0.0037, 0.0026, 0.0033, 0.0032, 0.0026, 0.0036, 0.0053, 0.0026, 0.0056,\n",
       "        0.0068, 0.0073, 0.0069, 0.0071, 0.0065, 0.0067, 0.0067, 0.0080, 0.0074,\n",
       "        0.0069, 0.0070, 0.0072, 0.0062, 0.0070, 0.0069, 0.0071, 0.0070, 0.0065,\n",
       "        0.0064, 0.0040, 0.0046, 0.0037, 0.0075, 0.0064, 0.0060, 0.0061, 0.0068,\n",
       "        0.0059, 0.0056, 0.0059, 0.0074, 0.0053, 0.0058, 0.0062, 0.0061, 0.0062,\n",
       "        0.0059, 0.0059, 0.0059, 0.0049, 0.0060, 0.0065, 0.0044, 0.0042, 0.0063,\n",
       "        0.0068, 0.0071, 0.0061, 0.0066, 0.0058, 0.0036, 0.0028, 0.0057, 0.0050,\n",
       "        0.0079, 0.0075, 0.0031, 0.0030, 0.0031, 0.0081, 0.0079, 0.0075, 0.0078,\n",
       "        0.0074, 0.0072, 0.0065, 0.0049, 0.0056, 0.0061, 0.0069, 0.0046, 0.0080,\n",
       "        0.0087, 0.0085, 0.0059, 0.0030, 0.0030, 0.0027, 0.0026, 0.0026, 0.0026,\n",
       "        0.0025, 0.0024, 0.0025, 0.0033, 0.0063, 0.0070, 0.0088, 0.0073, 0.0056,\n",
       "        0.0055, 0.0031, 0.0030, 0.0032, 0.0024, 0.0035, 0.0064, 0.0066, 0.0066,\n",
       "        0.0083, 0.0077, 0.0075, 0.0082, 0.0073, 0.0060, 0.0061, 0.0063, 0.0063,\n",
       "        0.0072, 0.0074, 0.0078, 0.0081, 0.0078, 0.0076, 0.0075, 0.0073, 0.0064,\n",
       "        0.0060, 0.0062, 0.0075, 0.0066, 0.0070, 0.0075, 0.0074, 0.0068, 0.0083,\n",
       "        0.0073, 0.0068, 0.0071, 0.0073, 0.0080, 0.0064, 0.0061, 0.0064, 0.0076,\n",
       "        0.0077, 0.0067, 0.0066, 0.0083, 0.0052, 0.0080, 0.0066, 0.0000, 0.0000,\n",
       "        0.0000, 0.0000, 0.0000, 0.0000, 0.0000, 0.0000, 0.0000, 0.0000, 0.0000,\n",
       "        0.0000, 0.0000, 0.0000, 0.0000])"
      ]
     },
     "execution_count": 13,
     "metadata": {},
     "output_type": "execute_result"
    }
   ],
   "source": [
    "attn"
   ]
  },
  {
   "cell_type": "code",
   "execution_count": 20,
   "metadata": {},
   "outputs": [],
   "source": [
    "from transformers import BertTokenizer\n",
    "\n",
    "words = kr3_binary[i]['Review'].split(' ')\n",
    "tokenizer = BertTokenizer.from_pretrained('bert-base-multilingual-cased')\n"
   ]
  },
  {
   "cell_type": "code",
   "execution_count": 21,
   "metadata": {},
   "outputs": [
    {
     "data": {
      "text/plain": [
       "['숙성',\n",
       " '돼지고기',\n",
       " '전문점입니다.',\n",
       " '건물',\n",
       " '모양',\n",
       " '때문에',\n",
       " '매장',\n",
       " '모양도',\n",
       " '좀',\n",
       " '특이하지만',\n",
       " '쾌적한',\n",
       " '편이고',\n",
       " '살짝',\n",
       " '레트로',\n",
       " '감성으로',\n",
       " '분위기',\n",
       " '잡아놨습니다.',\n",
       " '모든',\n",
       " '직원분들께서',\n",
       " '전부',\n",
       " '가능하다고',\n",
       " '멘트',\n",
       " '쳐주시며,',\n",
       " '고기는',\n",
       " '초반',\n",
       " '커팅까지는',\n",
       " '구워주십니다.',\n",
       " '가격',\n",
       " '저렴한',\n",
       " '편',\n",
       " '아니지만',\n",
       " '맛은',\n",
       " '준수합니다.',\n",
       " '등심덧살이',\n",
       " '인상',\n",
       " '깊었는데',\n",
       " '구이로',\n",
       " '별로일',\n",
       " '줄',\n",
       " '알았는데',\n",
       " '육향',\n",
       " '짙고',\n",
       " '얇게',\n",
       " '저며',\n",
       " '뻑뻑하지',\n",
       " '않았습니다.',\n",
       " '하이라이트는',\n",
       " '된장찌개.',\n",
       " '진짜',\n",
       " '굿입니다.',\n",
       " '버터',\n",
       " '간장밥,',\n",
       " '골뱅이',\n",
       " '국수',\n",
       " '등',\n",
       " '나중에',\n",
       " '더',\n",
       " '맛봐야',\n",
       " '할',\n",
       " '것들은',\n",
       " '남겨뒀습니다.']"
      ]
     },
     "execution_count": 21,
     "metadata": {},
     "output_type": "execute_result"
    }
   ],
   "source": [
    "words"
   ]
  },
  {
   "cell_type": "code",
   "execution_count": 22,
   "metadata": {},
   "outputs": [],
   "source": [
    "attn_per_word = get_attn_per_word(attn, words, tokenizer)"
   ]
  },
  {
   "cell_type": "code",
   "execution_count": 24,
   "metadata": {},
   "outputs": [
    {
     "data": {
      "text/plain": [
       "tensor([0.0120, 0.0182, 0.0397, 0.0073, 0.0069, 0.0040, 0.0072, 0.0092, 0.0026,\n",
       "        0.0172, 0.0210, 0.0136, 0.0134, 0.0223, 0.0203, 0.0210, 0.0135, 0.0064,\n",
       "        0.0322, 0.0128, 0.0173, 0.0127, 0.0243, 0.0119, 0.0108, 0.0211, 0.0387,\n",
       "        0.0064, 0.0186, 0.0075, 0.0092, 0.0160, 0.0364, 0.0281, 0.0167, 0.0145,\n",
       "        0.0087, 0.0078, 0.0025, 0.0082, 0.0133, 0.0161, 0.0110, 0.0061, 0.0032,\n",
       "        0.0256, 0.0390, 0.0319, 0.0153, 0.0311, 0.0136, 0.0264, 0.0219, 0.0151,\n",
       "        0.0073, 0.0140, 0.0073, 0.0205, 0.0064, 0.0153, 0.0414])"
      ]
     },
     "execution_count": 24,
     "metadata": {},
     "output_type": "execute_result"
    }
   ],
   "source": [
    "attn_per_word"
   ]
  },
  {
   "cell_type": "code",
   "execution_count": 28,
   "metadata": {},
   "outputs": [],
   "source": [
    "rationale, unrationale = discretize_attn(attn_per_word, words, strategy='continguous')"
   ]
  },
  {
   "cell_type": "code",
   "execution_count": 31,
   "metadata": {},
   "outputs": [
    {
     "data": {
      "text/plain": [
       "True"
      ]
     },
     "execution_count": 31,
     "metadata": {},
     "output_type": "execute_result"
    }
   ],
   "source": [
    "len(attn_per_word) == len(words)"
   ]
  },
  {
   "cell_type": "code",
   "execution_count": 29,
   "metadata": {},
   "outputs": [
    {
     "data": {
      "text/plain": [
       "['않았습니다.',\n",
       " '하이라이트는',\n",
       " '된장찌개.',\n",
       " '진짜',\n",
       " '굿입니다.',\n",
       " '버터',\n",
       " '간장밥,',\n",
       " '골뱅이',\n",
       " '국수',\n",
       " '등',\n",
       " '나중에',\n",
       " '더']"
      ]
     },
     "execution_count": 29,
     "metadata": {},
     "output_type": "execute_result"
    }
   ],
   "source": [
    "rationale"
   ]
  },
  {
   "cell_type": "code",
   "execution_count": 98,
   "metadata": {},
   "outputs": [],
   "source": [
    "from glob import glob\n",
    "paths = glob('outputs/FT3/attentions/batch_*.pt')"
   ]
  },
  {
   "cell_type": "code",
   "execution_count": 99,
   "metadata": {},
   "outputs": [
    {
     "data": {
      "text/plain": [
       "14345"
      ]
     },
     "execution_count": 99,
     "metadata": {},
     "output_type": "execute_result"
    }
   ],
   "source": [
    "len(paths)"
   ]
  },
  {
   "cell_type": "code",
   "execution_count": 46,
   "metadata": {},
   "outputs": [],
   "source": [
    "kr3_binary[0]['Review'] = rationale"
   ]
  },
  {
   "cell_type": "code",
   "execution_count": 57,
   "metadata": {},
   "outputs": [
    {
     "data": {
      "text/plain": [
       "'않았습니다. 하이라이트는 된장찌개. 진짜 굿입니다. 버터 간장밥, 골뱅이 국수 등 나중에 더'"
      ]
     },
     "execution_count": 57,
     "metadata": {},
     "output_type": "execute_result"
    }
   ],
   "source": [
    "rationale_sentence = ' '.join(rationale)\n",
    "rationale_sentence"
   ]
  },
  {
   "cell_type": "code",
   "execution_count": 85,
   "metadata": {},
   "outputs": [
    {
     "ename": "AttributeError",
     "evalue": "'list' object has no attribute 'encode_batch'",
     "output_type": "error",
     "traceback": [
      "\u001b[0;31m---------------------------------------------------------------------------\u001b[0m",
      "\u001b[0;31mAttributeError\u001b[0m                            Traceback (most recent call last)",
      "\u001b[1;32m/home/gsdsaml/kr3_rationale/_scratchpad4.ipynb Cell 20'\u001b[0m in \u001b[0;36m<cell line: 1>\u001b[0;34m()\u001b[0m\n\u001b[0;32m----> <a href='vscode-notebook-cell://ssh-remote%2B7b22686f73744e616d65223a22534e552d47534453227d/home/gsdsaml/kr3_rationale/_scratchpad4.ipynb#ch0000037vscode-remote?line=0'>1</a>\u001b[0m kr3_rationale \u001b[39m=\u001b[39m Dataset\u001b[39m.\u001b[39;49mfrom_dict({}, features\u001b[39m=\u001b[39;49m[\u001b[39m'\u001b[39;49m\u001b[39mRating\u001b[39;49m\u001b[39m'\u001b[39;49m, \u001b[39m'\u001b[39;49m\u001b[39mRationale\u001b[39;49m\u001b[39m'\u001b[39;49m])\n",
      "File \u001b[0;32m~/miniconda3/envs/cuda11.3/lib/python3.8/site-packages/datasets/arrow_dataset.py:817\u001b[0m, in \u001b[0;36mDataset.from_dict\u001b[0;34m(cls, mapping, features, info, split)\u001b[0m\n\u001b[1;32m    <a href='file:///home/gsdsaml/miniconda3/envs/cuda11.3/lib/python3.8/site-packages/datasets/arrow_dataset.py?line=814'>815</a>\u001b[0m info\u001b[39m.\u001b[39mfeatures \u001b[39m=\u001b[39m features\n\u001b[1;32m    <a href='file:///home/gsdsaml/miniconda3/envs/cuda11.3/lib/python3.8/site-packages/datasets/arrow_dataset.py?line=815'>816</a>\u001b[0m \u001b[39mif\u001b[39;00m features \u001b[39mis\u001b[39;00m \u001b[39mnot\u001b[39;00m \u001b[39mNone\u001b[39;00m:\n\u001b[0;32m--> <a href='file:///home/gsdsaml/miniconda3/envs/cuda11.3/lib/python3.8/site-packages/datasets/arrow_dataset.py?line=816'>817</a>\u001b[0m     mapping \u001b[39m=\u001b[39m features\u001b[39m.\u001b[39;49mencode_batch(mapping)\n\u001b[1;32m    <a href='file:///home/gsdsaml/miniconda3/envs/cuda11.3/lib/python3.8/site-packages/datasets/arrow_dataset.py?line=817'>818</a>\u001b[0m mapping \u001b[39m=\u001b[39m {\n\u001b[1;32m    <a href='file:///home/gsdsaml/miniconda3/envs/cuda11.3/lib/python3.8/site-packages/datasets/arrow_dataset.py?line=818'>819</a>\u001b[0m     col: OptimizedTypedSequence(data, \u001b[39mtype\u001b[39m\u001b[39m=\u001b[39mfeatures[col] \u001b[39mif\u001b[39;00m features \u001b[39mis\u001b[39;00m \u001b[39mnot\u001b[39;00m \u001b[39mNone\u001b[39;00m \u001b[39melse\u001b[39;00m \u001b[39mNone\u001b[39;00m, col\u001b[39m=\u001b[39mcol)\n\u001b[1;32m    <a href='file:///home/gsdsaml/miniconda3/envs/cuda11.3/lib/python3.8/site-packages/datasets/arrow_dataset.py?line=819'>820</a>\u001b[0m     \u001b[39mfor\u001b[39;00m col, data \u001b[39min\u001b[39;00m mapping\u001b[39m.\u001b[39mitems()\n\u001b[1;32m    <a href='file:///home/gsdsaml/miniconda3/envs/cuda11.3/lib/python3.8/site-packages/datasets/arrow_dataset.py?line=820'>821</a>\u001b[0m }\n\u001b[1;32m    <a href='file:///home/gsdsaml/miniconda3/envs/cuda11.3/lib/python3.8/site-packages/datasets/arrow_dataset.py?line=821'>822</a>\u001b[0m pa_table \u001b[39m=\u001b[39m InMemoryTable\u001b[39m.\u001b[39mfrom_pydict(mapping\u001b[39m=\u001b[39mmapping)\n",
      "\u001b[0;31mAttributeError\u001b[0m: 'list' object has no attribute 'encode_batch'"
     ]
    }
   ],
   "source": [
    "kr3_rationale = Dataset.from_dict({}"
   ]
  },
  {
   "cell_type": "code",
   "execution_count": 84,
   "metadata": {},
   "outputs": [
    {
     "data": {
      "text/plain": [
       "Dataset({\n",
       "    features: ['Rating', 'Review'],\n",
       "    num_rows: 641762\n",
       "})"
      ]
     },
     "execution_count": 84,
     "metadata": {},
     "output_type": "execute_result"
    }
   ],
   "source": [
    "kr3"
   ]
  },
  {
   "cell_type": "code",
   "execution_count": 91,
   "metadata": {},
   "outputs": [],
   "source": [
    "kr3_rationale = kr3_rationale.add_item({'Rating':1, 'Rationale':rationale_sentence})"
   ]
  },
  {
   "cell_type": "code",
   "execution_count": 92,
   "metadata": {},
   "outputs": [
    {
     "data": {
      "text/plain": [
       "{'Rating': 1,\n",
       " 'Rationale': '않았습니다. 하이라이트는 된장찌개. 진짜 굿입니다. 버터 간장밥, 골뱅이 국수 등 나중에 더'}"
      ]
     },
     "execution_count": 92,
     "metadata": {},
     "output_type": "execute_result"
    }
   ],
   "source": [
    "kr3_rationale[0]"
   ]
  },
  {
   "cell_type": "code",
   "execution_count": 80,
   "metadata": {},
   "outputs": [
    {
     "data": {
      "text/plain": [
       "{'input_ids': [101, 9523, 119118, 119081, 48345, 119, 9952, 10739, 17342, 41620, 11018, 9099, 13890, 119245, 21789, 119, 9708, 119235, 8915, 58303, 48345, 119, 9336, 21876, 8845, 13890, 118969, 117, 8892, 118974, 10739, 8909, 15891, 9121, 8982, 81724, 9074, 102], 'token_type_ids': [0, 0, 0, 0, 0, 0, 0, 0, 0, 0, 0, 0, 0, 0, 0, 0, 0, 0, 0, 0, 0, 0, 0, 0, 0, 0, 0, 0, 0, 0, 0, 0, 0, 0, 0, 0, 0, 0], 'attention_mask': [1, 1, 1, 1, 1, 1, 1, 1, 1, 1, 1, 1, 1, 1, 1, 1, 1, 1, 1, 1, 1, 1, 1, 1, 1, 1, 1, 1, 1, 1, 1, 1, 1, 1, 1, 1, 1, 1]}"
      ]
     },
     "execution_count": 80,
     "metadata": {},
     "output_type": "execute_result"
    }
   ],
   "source": [
    "tokenizer(rationale_sentence)"
   ]
  }
 ],
 "metadata": {
  "interpreter": {
   "hash": "5333f1ae2d2dec2c1d8a5fd16a6937e3d6f1660c2626f76e133a4bcfc7001c97"
  },
  "kernelspec": {
   "display_name": "Python 3.8.13 64-bit ('cuda11.3')",
   "language": "python",
   "name": "python3"
  },
  "language_info": {
   "codemirror_mode": {
    "name": "ipython",
    "version": 3
   },
   "file_extension": ".py",
   "mimetype": "text/x-python",
   "name": "python",
   "nbconvert_exporter": "python",
   "pygments_lexer": "ipython3",
   "version": "3.8.13"
  },
  "orig_nbformat": 4
 },
 "nbformat": 4,
 "nbformat_minor": 2
}
