{
 "cells": [
  {
   "cell_type": "code",
   "execution_count": 69,
   "metadata": {},
   "outputs": [
    {
     "name": "stderr",
     "output_type": "stream",
     "text": [
      "Failed to detect the name of this notebook, you can set it manually with the WANDB_NOTEBOOK_NAME environment variable to enable code saving.\n",
      "\u001b[34m\u001b[1mwandb\u001b[0m: Currently logged in as: \u001b[33mwittgensteinian\u001b[0m (use `wandb login --relogin` to force relogin)\n"
     ]
    },
    {
     "data": {
      "text/html": [
       "wandb version 0.12.16 is available!  To upgrade, please run:\n",
       " $ pip install wandb --upgrade"
      ],
      "text/plain": [
       "<IPython.core.display.HTML object>"
      ]
     },
     "metadata": {},
     "output_type": "display_data"
    },
    {
     "data": {
      "text/html": [
       "Tracking run with wandb version 0.12.15"
      ],
      "text/plain": [
       "<IPython.core.display.HTML object>"
      ]
     },
     "metadata": {},
     "output_type": "display_data"
    },
    {
     "data": {
      "text/html": [
       "Run data is saved locally in <code>/workspaces/research/wandb/run-20220505_120242-2fzxbfjn</code>"
      ],
      "text/plain": [
       "<IPython.core.display.HTML object>"
      ]
     },
     "metadata": {},
     "output_type": "display_data"
    },
    {
     "data": {
      "text/html": [
       "Syncing run <strong><a href=\"https://wandb.ai/wittgensteinian/research/runs/2fzxbfjn\" target=\"_blank\">light-nexu-4</a></strong> to <a href=\"https://wandb.ai/wittgensteinian/research\" target=\"_blank\">Weights & Biases</a> (<a href=\"https://wandb.me/run\" target=\"_blank\">docs</a>)<br/>"
      ],
      "text/plain": [
       "<IPython.core.display.HTML object>"
      ]
     },
     "metadata": {},
     "output_type": "display_data"
    }
   ],
   "source": [
    "# load wandb artifact (trained model state)\n",
    "import wandb\n",
    "run = wandb.init()\n",
    "artifact = run.use_artifact('wittgensteinian/Parameter-Efficient-Tuning/LoRA_BERT:v0', type='model')\n",
    "artifact_dir = artifact.download()"
   ]
  },
  {
   "cell_type": "code",
   "execution_count": 2,
   "metadata": {},
   "outputs": [
    {
     "name": "stderr",
     "output_type": "stream",
     "text": [
      "Some weights of the model checkpoint at bert-base-multilingual-cased were not used when initializing BertForSequenceClassification: ['cls.predictions.transform.dense.weight', 'cls.predictions.transform.LayerNorm.weight', 'cls.seq_relationship.bias', 'cls.predictions.transform.dense.bias', 'cls.predictions.bias', 'cls.predictions.transform.LayerNorm.bias', 'cls.seq_relationship.weight', 'cls.predictions.decoder.weight']\n",
      "- This IS expected if you are initializing BertForSequenceClassification from the checkpoint of a model trained on another task or with another architecture (e.g. initializing a BertForSequenceClassification model from a BertForPreTraining model).\n",
      "- This IS NOT expected if you are initializing BertForSequenceClassification from the checkpoint of a model that you expect to be exactly identical (initializing a BertForSequenceClassification model from a BertForSequenceClassification model).\n",
      "Some weights of BertForSequenceClassification were not initialized from the model checkpoint at bert-base-multilingual-cased and are newly initialized: ['classifier.weight', 'classifier.bias']\n",
      "You should probably TRAIN this model on a down-stream task to be able to use it for predictions and inference.\n"
     ]
    }
   ],
   "source": [
    "# load base model and tokenizer\n",
    "from transformers import BertForSequenceClassification, BertTokenizer\n",
    "model = BertForSequenceClassification.from_pretrained('bert-base-multilingual-cased', num_labels=2)\n",
    "tokenizer = BertTokenizer.from_pretrained('bert-base-multilingual-cased')"
   ]
  },
  {
   "cell_type": "code",
   "execution_count": 3,
   "metadata": {},
   "outputs": [],
   "source": [
    "import torch"
   ]
  },
  {
   "cell_type": "code",
   "execution_count": 4,
   "metadata": {},
   "outputs": [
    {
     "data": {
      "text/plain": [
       "<All keys matched successfully>"
      ]
     },
     "execution_count": 4,
     "metadata": {},
     "output_type": "execute_result"
    }
   ],
   "source": [
    "# fine-tune\n",
    "model.load_state_dict(torch.load('artifacts/finetuned_BERT:v7/summer-sea-11.pth', map_location=torch.device('cpu')))"
   ]
  },
  {
   "cell_type": "code",
   "execution_count": 3,
   "metadata": {},
   "outputs": [
    {
     "data": {
      "text/plain": [
       "'kr3'"
      ]
     },
     "execution_count": 3,
     "metadata": {},
     "output_type": "execute_result"
    }
   ],
   "source": [
    "# adapter\n",
    "model.load_adapter('artifacts/Adapter_BERT:v5/kr3', set_active=True)"
   ]
  },
  {
   "cell_type": "code",
   "execution_count": 3,
   "metadata": {},
   "outputs": [
    {
     "data": {
      "text/plain": [
       "_IncompatibleKeys(missing_keys=['bert.embeddings.position_ids', 'bert.embeddings.word_embeddings.weight', 'bert.embeddings.position_embeddings.weight', 'bert.embeddings.token_type_embeddings.weight', 'bert.embeddings.LayerNorm.weight', 'bert.embeddings.LayerNorm.bias', 'bert.encoder.layer.0.attention.self.query.weight', 'bert.encoder.layer.0.attention.self.query.bias', 'bert.encoder.layer.0.attention.self.key.weight', 'bert.encoder.layer.0.attention.self.key.bias', 'bert.encoder.layer.0.attention.self.value.weight', 'bert.encoder.layer.0.attention.self.value.bias', 'bert.encoder.layer.0.attention.output.dense.weight', 'bert.encoder.layer.0.attention.output.dense.bias', 'bert.encoder.layer.0.attention.output.LayerNorm.weight', 'bert.encoder.layer.0.attention.output.LayerNorm.bias', 'bert.encoder.layer.0.intermediate.dense.weight', 'bert.encoder.layer.0.intermediate.dense.bias', 'bert.encoder.layer.0.output.dense.weight', 'bert.encoder.layer.0.output.dense.bias', 'bert.encoder.layer.0.output.LayerNorm.weight', 'bert.encoder.layer.0.output.LayerNorm.bias', 'bert.encoder.layer.1.attention.self.query.weight', 'bert.encoder.layer.1.attention.self.query.bias', 'bert.encoder.layer.1.attention.self.key.weight', 'bert.encoder.layer.1.attention.self.key.bias', 'bert.encoder.layer.1.attention.self.value.weight', 'bert.encoder.layer.1.attention.self.value.bias', 'bert.encoder.layer.1.attention.output.dense.weight', 'bert.encoder.layer.1.attention.output.dense.bias', 'bert.encoder.layer.1.attention.output.LayerNorm.weight', 'bert.encoder.layer.1.attention.output.LayerNorm.bias', 'bert.encoder.layer.1.intermediate.dense.weight', 'bert.encoder.layer.1.intermediate.dense.bias', 'bert.encoder.layer.1.output.dense.weight', 'bert.encoder.layer.1.output.dense.bias', 'bert.encoder.layer.1.output.LayerNorm.weight', 'bert.encoder.layer.1.output.LayerNorm.bias', 'bert.encoder.layer.2.attention.self.query.weight', 'bert.encoder.layer.2.attention.self.query.bias', 'bert.encoder.layer.2.attention.self.key.weight', 'bert.encoder.layer.2.attention.self.key.bias', 'bert.encoder.layer.2.attention.self.value.weight', 'bert.encoder.layer.2.attention.self.value.bias', 'bert.encoder.layer.2.attention.output.dense.weight', 'bert.encoder.layer.2.attention.output.dense.bias', 'bert.encoder.layer.2.attention.output.LayerNorm.weight', 'bert.encoder.layer.2.attention.output.LayerNorm.bias', 'bert.encoder.layer.2.intermediate.dense.weight', 'bert.encoder.layer.2.intermediate.dense.bias', 'bert.encoder.layer.2.output.dense.weight', 'bert.encoder.layer.2.output.dense.bias', 'bert.encoder.layer.2.output.LayerNorm.weight', 'bert.encoder.layer.2.output.LayerNorm.bias', 'bert.encoder.layer.3.attention.self.query.weight', 'bert.encoder.layer.3.attention.self.query.bias', 'bert.encoder.layer.3.attention.self.key.weight', 'bert.encoder.layer.3.attention.self.key.bias', 'bert.encoder.layer.3.attention.self.value.weight', 'bert.encoder.layer.3.attention.self.value.bias', 'bert.encoder.layer.3.attention.output.dense.weight', 'bert.encoder.layer.3.attention.output.dense.bias', 'bert.encoder.layer.3.attention.output.LayerNorm.weight', 'bert.encoder.layer.3.attention.output.LayerNorm.bias', 'bert.encoder.layer.3.intermediate.dense.weight', 'bert.encoder.layer.3.intermediate.dense.bias', 'bert.encoder.layer.3.output.dense.weight', 'bert.encoder.layer.3.output.dense.bias', 'bert.encoder.layer.3.output.LayerNorm.weight', 'bert.encoder.layer.3.output.LayerNorm.bias', 'bert.encoder.layer.4.attention.self.query.weight', 'bert.encoder.layer.4.attention.self.query.bias', 'bert.encoder.layer.4.attention.self.key.weight', 'bert.encoder.layer.4.attention.self.key.bias', 'bert.encoder.layer.4.attention.self.value.weight', 'bert.encoder.layer.4.attention.self.value.bias', 'bert.encoder.layer.4.attention.output.dense.weight', 'bert.encoder.layer.4.attention.output.dense.bias', 'bert.encoder.layer.4.attention.output.LayerNorm.weight', 'bert.encoder.layer.4.attention.output.LayerNorm.bias', 'bert.encoder.layer.4.intermediate.dense.weight', 'bert.encoder.layer.4.intermediate.dense.bias', 'bert.encoder.layer.4.output.dense.weight', 'bert.encoder.layer.4.output.dense.bias', 'bert.encoder.layer.4.output.LayerNorm.weight', 'bert.encoder.layer.4.output.LayerNorm.bias', 'bert.encoder.layer.5.attention.self.query.weight', 'bert.encoder.layer.5.attention.self.query.bias', 'bert.encoder.layer.5.attention.self.key.weight', 'bert.encoder.layer.5.attention.self.key.bias', 'bert.encoder.layer.5.attention.self.value.weight', 'bert.encoder.layer.5.attention.self.value.bias', 'bert.encoder.layer.5.attention.output.dense.weight', 'bert.encoder.layer.5.attention.output.dense.bias', 'bert.encoder.layer.5.attention.output.LayerNorm.weight', 'bert.encoder.layer.5.attention.output.LayerNorm.bias', 'bert.encoder.layer.5.intermediate.dense.weight', 'bert.encoder.layer.5.intermediate.dense.bias', 'bert.encoder.layer.5.output.dense.weight', 'bert.encoder.layer.5.output.dense.bias', 'bert.encoder.layer.5.output.LayerNorm.weight', 'bert.encoder.layer.5.output.LayerNorm.bias', 'bert.encoder.layer.6.attention.self.query.weight', 'bert.encoder.layer.6.attention.self.query.bias', 'bert.encoder.layer.6.attention.self.key.weight', 'bert.encoder.layer.6.attention.self.key.bias', 'bert.encoder.layer.6.attention.self.value.weight', 'bert.encoder.layer.6.attention.self.value.bias', 'bert.encoder.layer.6.attention.output.dense.weight', 'bert.encoder.layer.6.attention.output.dense.bias', 'bert.encoder.layer.6.attention.output.LayerNorm.weight', 'bert.encoder.layer.6.attention.output.LayerNorm.bias', 'bert.encoder.layer.6.intermediate.dense.weight', 'bert.encoder.layer.6.intermediate.dense.bias', 'bert.encoder.layer.6.output.dense.weight', 'bert.encoder.layer.6.output.dense.bias', 'bert.encoder.layer.6.output.LayerNorm.weight', 'bert.encoder.layer.6.output.LayerNorm.bias', 'bert.encoder.layer.7.attention.self.query.weight', 'bert.encoder.layer.7.attention.self.query.bias', 'bert.encoder.layer.7.attention.self.key.weight', 'bert.encoder.layer.7.attention.self.key.bias', 'bert.encoder.layer.7.attention.self.value.weight', 'bert.encoder.layer.7.attention.self.value.bias', 'bert.encoder.layer.7.attention.output.dense.weight', 'bert.encoder.layer.7.attention.output.dense.bias', 'bert.encoder.layer.7.attention.output.LayerNorm.weight', 'bert.encoder.layer.7.attention.output.LayerNorm.bias', 'bert.encoder.layer.7.intermediate.dense.weight', 'bert.encoder.layer.7.intermediate.dense.bias', 'bert.encoder.layer.7.output.dense.weight', 'bert.encoder.layer.7.output.dense.bias', 'bert.encoder.layer.7.output.LayerNorm.weight', 'bert.encoder.layer.7.output.LayerNorm.bias', 'bert.encoder.layer.8.attention.self.query.weight', 'bert.encoder.layer.8.attention.self.query.bias', 'bert.encoder.layer.8.attention.self.key.weight', 'bert.encoder.layer.8.attention.self.key.bias', 'bert.encoder.layer.8.attention.self.value.weight', 'bert.encoder.layer.8.attention.self.value.bias', 'bert.encoder.layer.8.attention.output.dense.weight', 'bert.encoder.layer.8.attention.output.dense.bias', 'bert.encoder.layer.8.attention.output.LayerNorm.weight', 'bert.encoder.layer.8.attention.output.LayerNorm.bias', 'bert.encoder.layer.8.intermediate.dense.weight', 'bert.encoder.layer.8.intermediate.dense.bias', 'bert.encoder.layer.8.output.dense.weight', 'bert.encoder.layer.8.output.dense.bias', 'bert.encoder.layer.8.output.LayerNorm.weight', 'bert.encoder.layer.8.output.LayerNorm.bias', 'bert.encoder.layer.9.attention.self.query.weight', 'bert.encoder.layer.9.attention.self.query.bias', 'bert.encoder.layer.9.attention.self.key.weight', 'bert.encoder.layer.9.attention.self.key.bias', 'bert.encoder.layer.9.attention.self.value.weight', 'bert.encoder.layer.9.attention.self.value.bias', 'bert.encoder.layer.9.attention.output.dense.weight', 'bert.encoder.layer.9.attention.output.dense.bias', 'bert.encoder.layer.9.attention.output.LayerNorm.weight', 'bert.encoder.layer.9.attention.output.LayerNorm.bias', 'bert.encoder.layer.9.intermediate.dense.weight', 'bert.encoder.layer.9.intermediate.dense.bias', 'bert.encoder.layer.9.output.dense.weight', 'bert.encoder.layer.9.output.dense.bias', 'bert.encoder.layer.9.output.LayerNorm.weight', 'bert.encoder.layer.9.output.LayerNorm.bias', 'bert.encoder.layer.10.attention.self.query.weight', 'bert.encoder.layer.10.attention.self.query.bias', 'bert.encoder.layer.10.attention.self.key.weight', 'bert.encoder.layer.10.attention.self.key.bias', 'bert.encoder.layer.10.attention.self.value.weight', 'bert.encoder.layer.10.attention.self.value.bias', 'bert.encoder.layer.10.attention.output.dense.weight', 'bert.encoder.layer.10.attention.output.dense.bias', 'bert.encoder.layer.10.attention.output.LayerNorm.weight', 'bert.encoder.layer.10.attention.output.LayerNorm.bias', 'bert.encoder.layer.10.intermediate.dense.weight', 'bert.encoder.layer.10.intermediate.dense.bias', 'bert.encoder.layer.10.output.dense.weight', 'bert.encoder.layer.10.output.dense.bias', 'bert.encoder.layer.10.output.LayerNorm.weight', 'bert.encoder.layer.10.output.LayerNorm.bias', 'bert.encoder.layer.11.attention.self.query.weight', 'bert.encoder.layer.11.attention.self.query.bias', 'bert.encoder.layer.11.attention.self.key.weight', 'bert.encoder.layer.11.attention.self.key.bias', 'bert.encoder.layer.11.attention.self.value.weight', 'bert.encoder.layer.11.attention.self.value.bias', 'bert.encoder.layer.11.attention.output.dense.weight', 'bert.encoder.layer.11.attention.output.dense.bias', 'bert.encoder.layer.11.attention.output.LayerNorm.weight', 'bert.encoder.layer.11.attention.output.LayerNorm.bias', 'bert.encoder.layer.11.intermediate.dense.weight', 'bert.encoder.layer.11.intermediate.dense.bias', 'bert.encoder.layer.11.output.dense.weight', 'bert.encoder.layer.11.output.dense.bias', 'bert.encoder.layer.11.output.LayerNorm.weight', 'bert.encoder.layer.11.output.LayerNorm.bias', 'bert.pooler.dense.weight', 'bert.pooler.dense.bias', 'classifier.weight', 'classifier.bias'], unexpected_keys=['bert.encoder.layer.0.attention.self.query.lora_A', 'bert.encoder.layer.0.attention.self.query.lora_B', 'bert.encoder.layer.0.attention.self.value.lora_A', 'bert.encoder.layer.0.attention.self.value.lora_B', 'bert.encoder.layer.1.attention.self.query.lora_A', 'bert.encoder.layer.1.attention.self.query.lora_B', 'bert.encoder.layer.1.attention.self.value.lora_A', 'bert.encoder.layer.1.attention.self.value.lora_B', 'bert.encoder.layer.2.attention.self.query.lora_A', 'bert.encoder.layer.2.attention.self.query.lora_B', 'bert.encoder.layer.2.attention.self.value.lora_A', 'bert.encoder.layer.2.attention.self.value.lora_B', 'bert.encoder.layer.3.attention.self.query.lora_A', 'bert.encoder.layer.3.attention.self.query.lora_B', 'bert.encoder.layer.3.attention.self.value.lora_A', 'bert.encoder.layer.3.attention.self.value.lora_B', 'bert.encoder.layer.4.attention.self.query.lora_A', 'bert.encoder.layer.4.attention.self.query.lora_B', 'bert.encoder.layer.4.attention.self.value.lora_A', 'bert.encoder.layer.4.attention.self.value.lora_B', 'bert.encoder.layer.5.attention.self.query.lora_A', 'bert.encoder.layer.5.attention.self.query.lora_B', 'bert.encoder.layer.5.attention.self.value.lora_A', 'bert.encoder.layer.5.attention.self.value.lora_B', 'bert.encoder.layer.6.attention.self.query.lora_A', 'bert.encoder.layer.6.attention.self.query.lora_B', 'bert.encoder.layer.6.attention.self.value.lora_A', 'bert.encoder.layer.6.attention.self.value.lora_B', 'bert.encoder.layer.7.attention.self.query.lora_A', 'bert.encoder.layer.7.attention.self.query.lora_B', 'bert.encoder.layer.7.attention.self.value.lora_A', 'bert.encoder.layer.7.attention.self.value.lora_B', 'bert.encoder.layer.8.attention.self.query.lora_A', 'bert.encoder.layer.8.attention.self.query.lora_B', 'bert.encoder.layer.8.attention.self.value.lora_A', 'bert.encoder.layer.8.attention.self.value.lora_B', 'bert.encoder.layer.9.attention.self.query.lora_A', 'bert.encoder.layer.9.attention.self.query.lora_B', 'bert.encoder.layer.9.attention.self.value.lora_A', 'bert.encoder.layer.9.attention.self.value.lora_B', 'bert.encoder.layer.10.attention.self.query.lora_A', 'bert.encoder.layer.10.attention.self.query.lora_B', 'bert.encoder.layer.10.attention.self.value.lora_A', 'bert.encoder.layer.10.attention.self.value.lora_B', 'bert.encoder.layer.11.attention.self.query.lora_A', 'bert.encoder.layer.11.attention.self.query.lora_B', 'bert.encoder.layer.11.attention.self.value.lora_A', 'bert.encoder.layer.11.attention.self.value.lora_B'])"
      ]
     },
     "execution_count": 3,
     "metadata": {},
     "output_type": "execute_result"
    }
   ],
   "source": [
    "# lora\n",
    "# strict set to False because we only load the LoRA matrices.\n",
    "model.load_state_dict(torch.load('artifacts/LoRA_BERT:v0/LoRA-8.pth', map_location=torch.device('cpu')), strict=False)"
   ]
  },
  {
   "cell_type": "code",
   "execution_count": 5,
   "metadata": {},
   "outputs": [
    {
     "name": "stdout",
     "output_type": "stream",
     "text": [
      "Current transformer package is vanilla transformer.\n"
     ]
    }
   ],
   "source": [
    "# env check\n",
    "import transformers\n",
    "if 'AdapterConfig' in dir(transformers):\n",
    "    print('Current transformer package is adapter-transformer.')\n",
    "else:\n",
    "    print('Current transformer package is vanilla transformer.')"
   ]
  },
  {
   "cell_type": "code",
   "execution_count": 6,
   "metadata": {},
   "outputs": [
    {
     "name": "stderr",
     "output_type": "stream",
     "text": [
      "Using custom data configuration Wittgensteinian--KR3-9f7e41b8ab859e44\n"
     ]
    },
    {
     "name": "stdout",
     "output_type": "stream",
     "text": [
      "Downloading and preparing dataset parquet/Wittgensteinian--KR3 to /home/vscode/.cache/huggingface/datasets/parquet/Wittgensteinian--KR3-9f7e41b8ab859e44/0.0.0/0b6d5799bb726b24ad7fc7be720c170d8e497f575d02d47537de9a5bac074901...\n"
     ]
    },
    {
     "data": {
      "application/vnd.jupyter.widget-view+json": {
       "model_id": "16e9941749e84359b06c3e0162612b53",
       "version_major": 2,
       "version_minor": 0
      },
      "text/plain": [
       "Downloading data files:   0%|          | 0/1 [00:00<?, ?it/s]"
      ]
     },
     "metadata": {},
     "output_type": "display_data"
    },
    {
     "data": {
      "application/vnd.jupyter.widget-view+json": {
       "model_id": "940cf3222d19427c9d2b460003f9fef1",
       "version_major": 2,
       "version_minor": 0
      },
      "text/plain": [
       "Downloading data:   0%|          | 0.00/120M [00:00<?, ?B/s]"
      ]
     },
     "metadata": {},
     "output_type": "display_data"
    },
    {
     "data": {
      "application/vnd.jupyter.widget-view+json": {
       "model_id": "819cccb11e974e1fbe39822c34fe9881",
       "version_major": 2,
       "version_minor": 0
      },
      "text/plain": [
       "Extracting data files:   0%|          | 0/1 [00:00<?, ?it/s]"
      ]
     },
     "metadata": {},
     "output_type": "display_data"
    },
    {
     "name": "stdout",
     "output_type": "stream",
     "text": [
      "Dataset parquet downloaded and prepared to /home/vscode/.cache/huggingface/datasets/parquet/Wittgensteinian--KR3-9f7e41b8ab859e44/0.0.0/0b6d5799bb726b24ad7fc7be720c170d8e497f575d02d47537de9a5bac074901. Subsequent calls will reuse this data.\n"
     ]
    }
   ],
   "source": [
    "# load the dataset\n",
    "from datasets import load_dataset\n",
    "\n",
    "kr3 = load_dataset(\"Wittgensteinian/KR3\", name='kr3', split='train')\n",
    "kr3 = kr3.remove_columns(['__index_level_0__'])"
   ]
  },
  {
   "cell_type": "code",
   "execution_count": 91,
   "metadata": {},
   "outputs": [],
   "source": [
    "# example input and forward pass\n",
    "i = 1231\n",
    "review = kr3['Review'][i:i+1]\n",
    "true_label = kr3['Rating'][i:i+1]\n",
    "tokenized = tokenizer(review)\n",
    "input_tensors = {k:torch.tensor(v) for k,v in tokenized.items()}\n",
    "output = model(**input_tensors, output_attentions=True) # outputs.attention is a tuple, each entry a 4D attn tensor for each layer"
   ]
  },
  {
   "cell_type": "code",
   "execution_count": 92,
   "metadata": {},
   "outputs": [
    {
     "data": {
      "text/plain": [
       "['무료주차된다. 반찬이 맛있담. 주차 발레 해준다. 식사시간에 대기 줄어 길다']"
      ]
     },
     "execution_count": 92,
     "metadata": {},
     "output_type": "execute_result"
    }
   ],
   "source": [
    "# review natural text\n",
    "review"
   ]
  },
  {
   "cell_type": "code",
   "execution_count": 93,
   "metadata": {},
   "outputs": [
    {
     "data": {
      "text/plain": [
       "('Predict:', tensor(1), 'True:', [1])"
      ]
     },
     "execution_count": 93,
     "metadata": {},
     "output_type": "execute_result"
    }
   ],
   "source": [
    "# inference result\n",
    "'Predict:', output.logits.argmax(), 'True:', true_label"
   ]
  },
  {
   "cell_type": "code",
   "execution_count": 94,
   "metadata": {},
   "outputs": [
    {
     "data": {
      "text/plain": [
       "torch.Size([1, 12, 12, 33, 33])"
      ]
     },
     "execution_count": 94,
     "metadata": {},
     "output_type": "execute_result"
    }
   ],
   "source": [
    "# full attention weights\n",
    "attn_weights = torch.stack([attn for attn in output.attentions], dim=1)\n",
    "attn_weights.size() # (batch_size, num_layers, num_heads, seq_len, seq_len)"
   ]
  },
  {
   "cell_type": "code",
   "execution_count": 95,
   "metadata": {},
   "outputs": [
    {
     "data": {
      "text/plain": [
       "<AxesSubplot:>"
      ]
     },
     "execution_count": 95,
     "metadata": {},
     "output_type": "execute_result"
    },
    {
     "data": {
      "image/png": "[encoded data removed]",
      "text/plain": [
       "<Figure size 1800x1008 with 2 Axes>"
      ]
     },
     "metadata": {
      "needs_background": "light"
     },
     "output_type": "display_data"
    }
   ],
   "source": [
    "# heatmap for full attn map, mean over head\n",
    "import seaborn as sns\n",
    "import matplotlib.pyplot as plt\n",
    "fig, ax = plt.subplots(figsize=(25,14))\n",
    "l = -4 # last layer, or 4th layer from the back?\n",
    "sns.heatmap(attn_weights[0,l,:,:,:].mean(0).detach().numpy(), ax=ax) "
   ]
  },
  {
   "cell_type": "code",
   "execution_count": 122,
   "metadata": {},
   "outputs": [
    {
     "name": "stdout",
     "output_type": "stream",
     "text": [
      "torch.Size([33])\n"
     ]
    }
   ],
   "source": [
    "# per-token attn weight indexing following Chrysostomou et al., 2021 and Jain et al., 2020\n",
    "# see src/models/bert.py line 71 in https://github.com/GChrysostomou/saloss\n",
    "\n",
    "attention = attn_weights[0,-4,:,0,:].mean(0).detach() # layer, mean over head, attn w.r.t. <CLS>\n",
    "print(attention.size())"
   ]
  },
  {
   "cell_type": "code",
   "execution_count": 123,
   "metadata": {},
   "outputs": [
    {
     "data": {
      "text/plain": [
       "tensor([0.0352, 0.0387, 0.0476, 0.0181, 0.0189, 0.0243, 0.0514, 0.0302, 0.0386,\n",
       "        0.0242, 0.0494, 0.0538, 0.0375, 0.0288, 0.0312, 0.0263, 0.0228, 0.0202,\n",
       "        0.0110, 0.0143, 0.0200, 0.0484, 0.0353, 0.0246, 0.0362, 0.0256, 0.0284,\n",
       "        0.0252, 0.0256, 0.0097, 0.0145, 0.0147, 0.0690])"
      ]
     },
     "execution_count": 123,
     "metadata": {},
     "output_type": "execute_result"
    }
   ],
   "source": [
    "attention # per token"
   ]
  },
  {
   "cell_type": "code",
   "execution_count": 124,
   "metadata": {},
   "outputs": [],
   "source": [
    "# exclude special tokens: [CLS]-101, [SEP]-102, [PAD]-0\n",
    "\n",
    "# assert\n",
    "assert len(tokenized['input_ids'][0]) == len(attention)\n",
    "\n",
    "# bool array for mask\n",
    "special_token_mask = torch.zeros_like(attention).bool()\n",
    "\n",
    "# iterate over each tokens. If token is one of special tokens, change the mask value.\n",
    "special_tokens = [0, 101, 102]\n",
    "for i, input_id in enumerate(tokenized['input_ids']):\n",
    "    if input_id in special_tokens:\n",
    "        special_token_mask[i] = 1\n",
    "\n",
    "# normalize over unmasked tokens\n",
    "attention = torch.masked_fill(attention, special_token_mask, 0)\n",
    "attention /= attention.sum(dim=-1)\n"
   ]
  },
  {
   "cell_type": "code",
   "execution_count": 125,
   "metadata": {},
   "outputs": [
    {
     "data": {
      "text/plain": [
       "tensor([0.0352, 0.0387, 0.0476, 0.0181, 0.0189, 0.0243, 0.0514, 0.0302, 0.0386,\n",
       "        0.0242, 0.0494, 0.0538, 0.0375, 0.0288, 0.0312, 0.0263, 0.0228, 0.0202,\n",
       "        0.0110, 0.0143, 0.0200, 0.0484, 0.0353, 0.0246, 0.0362, 0.0256, 0.0284,\n",
       "        0.0252, 0.0256, 0.0097, 0.0145, 0.0147, 0.0690])"
      ]
     },
     "execution_count": 125,
     "metadata": {},
     "output_type": "execute_result"
    }
   ],
   "source": [
    "attention # per token, normalized"
   ]
  },
  {
   "cell_type": "code",
   "execution_count": 126,
   "metadata": {},
   "outputs": [],
   "source": [
    "# attention score per word, computed by summing scores for tokens in the word\n",
    "words = review[0].split(' ')\n",
    "attention_per_word = torch.zeros(len(words))\n",
    "tokens_per_word = []\n",
    "\n",
    "# start slicing index by 1\n",
    "# why not 0? Because first token is the [CLS]. cf) We don't have [SEP] in the middle of the input, so we do not consider that.\n",
    "i = 1\n",
    "\n",
    "for j, word in enumerate(words):\n",
    "    # number of tokens in the word\n",
    "    num_tokens = len(tokenizer.tokenize(word))\n",
    "\n",
    "    # slice the attention by num_tokens\n",
    "    tokens_per_word.append(attention[i:i+num_tokens])\n",
    "    # sum over tokens to obtain attention per word\n",
    "    sum = tokens_per_word[j].sum(dim=-1)\n",
    "    attention_per_word[j] = sum\n",
    "    i += num_tokens\n",
    "    "
   ]
  },
  {
   "cell_type": "code",
   "execution_count": 127,
   "metadata": {},
   "outputs": [
    {
     "data": {
      "text/plain": [
       "tensor([0.1991, 0.0930, 0.1695, 0.0575, 0.0431, 0.0937, 0.1218, 0.0536, 0.0353,\n",
       "        0.0293])"
      ]
     },
     "execution_count": 127,
     "metadata": {},
     "output_type": "execute_result"
    }
   ],
   "source": [
    "attention_per_word"
   ]
  },
  {
   "cell_type": "markdown",
   "metadata": {},
   "source": [
    "## ERASER"
   ]
  },
  {
   "cell_type": "code",
   "execution_count": 128,
   "metadata": {},
   "outputs": [
    {
     "data": {
      "text/plain": [
       "tensor([0, 2])"
      ]
     },
     "execution_count": 128,
     "metadata": {},
     "output_type": "execute_result"
    }
   ],
   "source": [
    "ratio = 0.2\n",
    "rationale_idxs = attention_per_word.argsort(descending=True)[:int(len(attention_per_word)*ratio)]\n",
    "rationale_idxs"
   ]
  },
  {
   "cell_type": "code",
   "execution_count": 129,
   "metadata": {},
   "outputs": [
    {
     "data": {
      "text/plain": [
       "['무료주차된다. 반찬이 맛있담. 주차 발레 해준다. 식사시간에 대기 줄어 길다']"
      ]
     },
     "execution_count": 129,
     "metadata": {},
     "output_type": "execute_result"
    }
   ],
   "source": [
    "review"
   ]
  },
  {
   "cell_type": "code",
   "execution_count": 130,
   "metadata": {},
   "outputs": [],
   "source": [
    "rationale = [] # words in the rationale, ordered (for sufficiency eval)\n",
    "unrationale = [] # words not in the rationale, ordered (for completeness evla)\n",
    "\n",
    "for i, word in enumerate(words):\n",
    "    if i in rationale_idxs:\n",
    "        rationale.append(word)\n",
    "    else:\n",
    "        unrationale.append(word)"
   ]
  },
  {
   "cell_type": "code",
   "execution_count": 131,
   "metadata": {},
   "outputs": [
    {
     "name": "stdout",
     "output_type": "stream",
     "text": [
      "무료주차된다. 맛있담. \n",
      "\n",
      "반찬이 주차 발레 해준다. 식사시간에 대기 줄어 길다 \n",
      "\n",
      "['무료주차된다. 반찬이 맛있담. 주차 발레 해준다. 식사시간에 대기 줄어 길다']\n"
     ]
    }
   ],
   "source": [
    "rationale_text = ' '.join(rationale) # words in the list concated to a sentence\n",
    "unrationale_text = ' '.join(unrationale)\n",
    "\n",
    "print(rationale_text, '\\n')\n",
    "print(unrationale_text, '\\n')\n",
    "print(review)"
   ]
  },
  {
   "cell_type": "code",
   "execution_count": 132,
   "metadata": {},
   "outputs": [
    {
     "data": {
      "text/plain": [
       "0.9992024302482605"
      ]
     },
     "execution_count": 132,
     "metadata": {},
     "output_type": "execute_result"
    }
   ],
   "source": [
    "tokenized_rationale = tokenizer(rationale_text)\n",
    "input_tensors = {k:torch.tensor([v]) for k,v in tokenized_rationale.items()} # [v] for pseudo-batch\n",
    "rationale_output = model(**input_tensors, output_attentions=True)\n",
    "rationale_prediction = torch.softmax(rationale_output.logits.detach(), dim=-1)[0][1].item()\n",
    "rationale_prediction"
   ]
  },
  {
   "cell_type": "code",
   "execution_count": 133,
   "metadata": {},
   "outputs": [
    {
     "data": {
      "text/plain": [
       "0.9740928411483765"
      ]
     },
     "execution_count": 133,
     "metadata": {},
     "output_type": "execute_result"
    }
   ],
   "source": [
    "tokenized_unrationale = tokenizer(unrationale_text)\n",
    "input_tensors = {k:torch.tensor([v]) for k,v in tokenized_unrationale.items()} # [v] for pseudo-batch\n",
    "unrationale_output = model(**input_tensors, output_attentions=True)\n",
    "unrationale_prediction = torch.softmax(unrationale_output.logits.detach(), dim=-1)[0][1].item()\n",
    "unrationale_prediction"
   ]
  },
  {
   "cell_type": "code",
   "execution_count": 134,
   "metadata": {},
   "outputs": [
    {
     "data": {
      "text/plain": [
       "0.9991903901100159"
      ]
     },
     "execution_count": 134,
     "metadata": {},
     "output_type": "execute_result"
    }
   ],
   "source": [
    "original_prediction = torch.softmax(output.logits.detach(), dim=-1)[0][1].item()\n",
    "original_prediction"
   ]
  },
  {
   "cell_type": "code",
   "execution_count": 137,
   "metadata": {},
   "outputs": [
    {
     "data": {
      "text/plain": [
       "torch.Size([1, 2])"
      ]
     },
     "execution_count": 137,
     "metadata": {},
     "output_type": "execute_result"
    }
   ],
   "source": [
    "output.logits.detach().size()"
   ]
  },
  {
   "cell_type": "markdown",
   "metadata": {},
   "source": [
    "## Decision Flip (Serrano & Smith 2019)"
   ]
  },
  {
   "cell_type": "code",
   "execution_count": 62,
   "metadata": {},
   "outputs": [
    {
     "data": {
      "text/plain": [
       "1"
      ]
     },
     "execution_count": 62,
     "metadata": {},
     "output_type": "execute_result"
    }
   ],
   "source": [
    "original_prediction = output.logits.argmax().item()\n",
    "original_prediction"
   ]
  },
  {
   "cell_type": "code",
   "execution_count": 63,
   "metadata": {},
   "outputs": [
    {
     "data": {
      "text/plain": [
       "tensor(211)"
      ]
     },
     "execution_count": 63,
     "metadata": {},
     "output_type": "execute_result"
    }
   ],
   "source": [
    "attention.argsort(descending=True)[0]"
   ]
  },
  {
   "cell_type": "code",
   "execution_count": 237,
   "metadata": {},
   "outputs": [
    {
     "name": "stdout",
     "output_type": "stream",
     "text": [
      "Decision flipped at 0.9954545454545455, 219/220\n"
     ]
    }
   ],
   "source": [
    "for i in range(attention.size(-1)):\n",
    "    zeroed_idxs = attention.argsort(descending=True)[:i+1] # zero the top i tokens\n",
    "    \n",
    "    # rebuild input in which some of the tokens are zeroed.\n",
    "    flip_tokenized = {}\n",
    "    for key, value in tokenized.items(): # keys are 'input_ids', 'token_type_ids', and 'attention_mask'\n",
    "        new_value = []\n",
    "        for i, x in enumerate(value): \n",
    "            if i not in zeroed_idxs:\n",
    "                new_value.append(x)\n",
    "        flip_tokenized[key] = new_value\n",
    "\n",
    "    # forward\n",
    "    flip_output = model(**{k:torch.tensor([v]) for k,v in flip_tokenized.items()})\n",
    "    if original_prediction != flip_output.logits.argmax().item():\n",
    "        print(f\"Decision flipped at {i/attention.size(-1)}, {i}/{attention.size(-1)}\")\n",
    "        break\n",
    "    \n"
   ]
  }
 ],
 "metadata": {
  "interpreter": {
   "hash": "d4d1e4263499bec80672ea0156c357c1ee493ec2b1c70f0acce89fc37c4a6abe"
  },
  "kernelspec": {
   "display_name": "Python 3.9.5 ('base')",
   "language": "python",
   "name": "python3"
  },
  "language_info": {
   "codemirror_mode": {
    "name": "ipython",
    "version": 3
   },
   "file_extension": ".py",
   "mimetype": "text/x-python",
   "name": "python",
   "nbconvert_exporter": "python",
   "pygments_lexer": "ipython3",
   "version": "3.9.5"
  },
  "orig_nbformat": 4
 },
 "nbformat": 4,
 "nbformat_minor": 2
}
