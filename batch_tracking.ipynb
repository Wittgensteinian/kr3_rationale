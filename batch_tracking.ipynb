{
 "cells": [
  {
   "cell_type": "code",
   "execution_count": 1,
   "metadata": {},
   "outputs": [],
   "source": [
    "from glob import glob"
   ]
  },
  {
   "cell_type": "code",
   "execution_count": 4,
   "metadata": {},
   "outputs": [],
   "source": [
    "def print_stats(tuning_method, extract_method):\n",
    "    print(f'Number of attentions from {tuning_method}', len(glob(f'outputs/{tuning_method}/attentions/batch_*')))\n",
    "    print(f'Number of rationales using {extract_method}', len(glob(f'kr4/{tuning_method}_{extract_method}/batch_*')))\n",
    "    print('Number of tokenized rationales', len(glob(f'kr4_tokenized/{tuning_method}_{extract_method}/batch_*')))"
   ]
  },
  {
   "cell_type": "code",
   "execution_count": 5,
   "metadata": {},
   "outputs": [
    {
     "name": "stdout",
     "output_type": "stream",
     "text": [
      "Number of attentions from FT3 14345\n",
      "Number of rationales using TopK 14171\n",
      "Number of tokenized rationales 14171\n"
     ]
    }
   ],
   "source": [
    "print_stats('FT3', 'TopK') # same for TopK-Un"
   ]
  },
  {
   "cell_type": "code",
   "execution_count": 6,
   "metadata": {},
   "outputs": [
    {
     "name": "stdout",
     "output_type": "stream",
     "text": [
      "Number of attentions from FT3 14345\n",
      "Number of rationales using Contin 11967\n",
      "Number of tokenized rationales 11967\n"
     ]
    }
   ],
   "source": [
    "print_stats('FT3', 'Contin') # same for Contin-Un"
   ]
  },
  {
   "cell_type": "code",
   "execution_count": 8,
   "metadata": {},
   "outputs": [
    {
     "name": "stdout",
     "output_type": "stream",
     "text": [
      "Number of attentions from FT3 14345\n",
      "Number of rationales using RandomTopK 14171\n",
      "Number of tokenized rationales 14171\n"
     ]
    }
   ],
   "source": [
    "print_stats('FT3', 'RandomTopK')"
   ]
  },
  {
   "cell_type": "code",
   "execution_count": 7,
   "metadata": {},
   "outputs": [
    {
     "name": "stdout",
     "output_type": "stream",
     "text": [
      "Number of attentions from FT3 14345\n",
      "Number of rationales using RandomContin 14171\n",
      "Number of tokenized rationales 14171\n"
     ]
    }
   ],
   "source": [
    "print_stats('FT3', 'RandomContin')"
   ]
  },
  {
   "cell_type": "markdown",
   "metadata": {},
   "source": [
    "## See rationales"
   ]
  },
  {
   "cell_type": "code",
   "execution_count": 6,
   "metadata": {},
   "outputs": [],
   "source": [
    "from datasets import load_from_disk, load_dataset"
   ]
  },
  {
   "cell_type": "code",
   "execution_count": 7,
   "metadata": {},
   "outputs": [
    {
     "name": "stderr",
     "output_type": "stream",
     "text": [
      "Using custom data configuration Wittgensteinian--KR3-0f424e029f3cf821\n",
      "Reusing dataset parquet (/home/gsdsaml/.cache/huggingface/datasets/parquet/Wittgensteinian--KR3-0f424e029f3cf821/0.0.0/0b6d5799bb726b24ad7fc7be720c170d8e497f575d02d47537de9a5bac074901)\n",
      "Loading cached processed dataset at /home/gsdsaml/.cache/huggingface/datasets/parquet/Wittgensteinian--KR3-0f424e029f3cf821/0.0.0/0b6d5799bb726b24ad7fc7be720c170d8e497f575d02d47537de9a5bac074901/cache-88ae1594470bd0c3.arrow\n"
     ]
    }
   ],
   "source": [
    "# original dataset\n",
    "kr3 = load_dataset(\"Wittgensteinian/KR3\", name='kr3', split='train')\n",
    "kr3 = kr3.remove_columns(['__index_level_0__'])\n",
    "kr3_binary = kr3.filter(lambda example: example['Rating'] != 2)"
   ]
  },
  {
   "cell_type": "code",
   "execution_count": 76,
   "metadata": {},
   "outputs": [
    {
     "name": "stdout",
     "output_type": "stream",
     "text": [
      "9435\n",
      "9860\n",
      "7290\n",
      "2706\n",
      "719\n"
     ]
    }
   ],
   "source": [
    "import numpy as np\n",
    "for i in np.random.choice(14345,40):\n",
    "    try:\n",
    "        if len(kr3_binary[int(i)]['Review']) > 200:\n",
    "            print(i)\n",
    "    except KeyError:\n",
    "        continue"
   ]
  },
  {
   "cell_type": "code",
   "execution_count": 91,
   "metadata": {},
   "outputs": [],
   "source": [
    "# index\n",
    "# guidelines below (* for label=0)\n",
    "# interesting: 123\n",
    "# long text: 8509, 2997, 1134, 6702, 9435*, 9860, 7290, 2706, 719\n",
    "i = 719"
   ]
  },
  {
   "cell_type": "code",
   "execution_count": 92,
   "metadata": {},
   "outputs": [
    {
     "data": {
      "text/plain": [
       "{'Rating': 1,\n",
       " 'Review': ' 이름  낮에는 가정 초밥이라는 밥집이고, 밤에는 토라 토라고 하는 술집이에요.  맛  고기 먹고 간단하게 한 잔 더 하고 싶어서 2차로 갔어요. 생맥주는 시원하니 맛있었고 야무네도 오랜만에 먹으니까 괜찮더라고요. 다만 명란 치즈 감자는 전체적으로 많이 짰어요. 배가 불러서 간단한 메뉴 시키고 싶었는데 나베나 초밥 같은 무거운 메뉴가 많아서 좀 아쉬웠어요.  분위기  일본 상점가 레스토랑 생각하시면 돼요. 전체적인 인테리어나 조명이나 소품 같은 것들이 분위기가 비슷해요. 오션뷰라 창가 쪽에 앉으시면 좀 더 시원한 느낌 받으실 수 있어요.'}"
      ]
     },
     "execution_count": 92,
     "metadata": {},
     "output_type": "execute_result"
    }
   ],
   "source": [
    "kr3_binary[i]"
   ]
  },
  {
   "cell_type": "code",
   "execution_count": 93,
   "metadata": {},
   "outputs": [
    {
     "data": {
      "text/plain": [
       "{'Rating': 1,\n",
       " 'Rationale': '초밥이라는 간단하게 갔어요. 시원하니 맛있었고 분위기 레스토랑 생각하시면 돼요. 인테리어나 조명이나 것들이 분위기가 비슷해요. 오션뷰라 시원한',\n",
       " 'Unrationale': '이름 낮에는 가정 밥집이고, 밤에는 토라 토라고 하는 술집이에요. 맛 고기 먹고 한 잔 더 하고 싶어서 2차로 생맥주는 야무네도 오랜만에 먹으니까 괜찮더라고요. 다만 명란 치즈 감자는 전체적으로 많이 짰어요. 배가 불러서 간단한 메뉴 시키고 싶었는데 나베나 초밥 같은 무거운 메뉴가 많아서 좀 아쉬웠어요. 일본 상점가 전체적인 소품 같은 창가 쪽에 앉으시면 좀 더 느낌 받으실 수 있어요.'}"
      ]
     },
     "execution_count": 93,
     "metadata": {},
     "output_type": "execute_result"
    }
   ],
   "source": [
    "rationales = load_from_disk(f'kr4/FT3_TopK/batch_{i//32}')\n",
    "rationales[i%32]"
   ]
  },
  {
   "cell_type": "code",
   "execution_count": 94,
   "metadata": {},
   "outputs": [
    {
     "data": {
      "text/plain": [
       "{'Rating': 1,\n",
       " 'Rationale': '분위기  일본 상점가 레스토랑 생각하시면 돼요. 전체적인 인테리어나 조명이나 소품 같은 것들이 분위기가 비슷해요. 오션뷰라',\n",
       " 'Unrationale': ' 이름  낮에는 가정 초밥이라는 밥집이고, 밤에는 토라 토라고 하는 술집이에요.  맛  고기 먹고 간단하게 한 잔 더 하고 싶어서 2차로 갔어요. 생맥주는 시원하니 맛있었고 야무네도 오랜만에 먹으니까 괜찮더라고요. 다만 명란 치즈 감자는 전체적으로 많이 짰어요. 배가 불러서 간단한 메뉴 시키고 싶었는데 나베나 초밥 같은 무거운 메뉴가 많아서 좀 아쉬웠어요.  창가 쪽에 앉으시면 좀 더 시원한 느낌 받으실 수 있어요.'}"
      ]
     },
     "execution_count": 94,
     "metadata": {},
     "output_type": "execute_result"
    }
   ],
   "source": [
    "rationales = load_from_disk(f'kr4/FT3_Contin/batch_{i//32}')\n",
    "rationales[i%32]"
   ]
  }
 ],
 "metadata": {
  "interpreter": {
   "hash": "5333f1ae2d2dec2c1d8a5fd16a6937e3d6f1660c2626f76e133a4bcfc7001c97"
  },
  "kernelspec": {
   "display_name": "Python 3.8.13 ('cuda11.3')",
   "language": "python",
   "name": "python3"
  },
  "language_info": {
   "codemirror_mode": {
    "name": "ipython",
    "version": 3
   },
   "file_extension": ".py",
   "mimetype": "text/x-python",
   "name": "python",
   "nbconvert_exporter": "python",
   "pygments_lexer": "ipython3",
   "version": "3.8.13"
  },
  "orig_nbformat": 4
 },
 "nbformat": 4,
 "nbformat_minor": 2
}
