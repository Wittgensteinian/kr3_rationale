{
 "cells": [
  {
   "cell_type": "code",
   "execution_count": 1,
   "metadata": {},
   "outputs": [],
   "source": [
    "from glob import glob"
   ]
  },
  {
   "cell_type": "code",
   "execution_count": 4,
   "metadata": {},
   "outputs": [],
   "source": [
    "def print_stats(tuning_method, extract_method):\n",
    "    print(f'Number of attentions from {tuning_method}', len(glob(f'outputs/{tuning_method}/attentions/batch_*')))\n",
    "    print(f'Number of rationales using {extract_method}', len(glob(f'kr4/{tuning_method}_{extract_method}/batch_*')))\n",
    "    print('Number of tokenized rationales', len(glob(f'kr4_tokenized/{tuning_method}_{extract_method}/batch_*')))"
   ]
  },
  {
   "cell_type": "code",
   "execution_count": 5,
   "metadata": {},
   "outputs": [
    {
     "name": "stdout",
     "output_type": "stream",
     "text": [
      "Number of attentions from FT3 14345\n",
      "Number of rationales using TopK 14171\n",
      "Number of tokenized rationales 14171\n"
     ]
    }
   ],
   "source": [
    "print_stats('FT3', 'TopK') # same for TopK-Un"
   ]
  },
  {
   "cell_type": "code",
   "execution_count": 6,
   "metadata": {},
   "outputs": [
    {
     "name": "stdout",
     "output_type": "stream",
     "text": [
      "Number of attentions from FT3 14345\n",
      "Number of rationales using Contin 11967\n",
      "Number of tokenized rationales 11967\n"
     ]
    }
   ],
   "source": [
    "print_stats('FT3', 'Contin') # same for Contin-Un"
   ]
  },
  {
   "cell_type": "code",
   "execution_count": 8,
   "metadata": {},
   "outputs": [
    {
     "name": "stdout",
     "output_type": "stream",
     "text": [
      "Number of attentions from FT3 14345\n",
      "Number of rationales using RandomTopK 14171\n",
      "Number of tokenized rationales 14171\n"
     ]
    }
   ],
   "source": [
    "print_stats('FT3', 'RandomTopK')"
   ]
  },
  {
   "cell_type": "code",
   "execution_count": 7,
   "metadata": {},
   "outputs": [
    {
     "name": "stdout",
     "output_type": "stream",
     "text": [
      "Number of attentions from FT3 14345\n",
      "Number of rationales using RandomContin 14171\n",
      "Number of tokenized rationales 14171\n"
     ]
    }
   ],
   "source": [
    "print_stats('FT3', 'RandomContin')"
   ]
  }
 ],
 "metadata": {
  "interpreter": {
   "hash": "5333f1ae2d2dec2c1d8a5fd16a6937e3d6f1660c2626f76e133a4bcfc7001c97"
  },
  "kernelspec": {
   "display_name": "Python 3.8.13 ('cuda11.3')",
   "language": "python",
   "name": "python3"
  },
  "language_info": {
   "codemirror_mode": {
    "name": "ipython",
    "version": 3
   },
   "file_extension": ".py",
   "mimetype": "text/x-python",
   "name": "python",
   "nbconvert_exporter": "python",
   "pygments_lexer": "ipython3",
   "version": "3.8.13"
  },
  "orig_nbformat": 4
 },
 "nbformat": 4,
 "nbformat_minor": 2
}
